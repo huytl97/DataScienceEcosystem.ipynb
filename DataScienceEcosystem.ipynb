{
 "cells": [
  {
   "cell_type": "markdown",
   "id": "c3c87188-c22d-43d1-a7b4-0f244256c98b",
   "metadata": {},
   "source": [
    "# Data Science Tools and Ecosystem\n"
   ]
  },
  {
   "cell_type": "markdown",
   "id": "3499e2c9-a9a2-4745-b75e-692b361d4e5d",
   "metadata": {},
   "source": [
    "## In this notebook, Data Science Tools and Ecosystem are summarized\n",
    "### List popular languages for Data Science\n",
    "- Python\n",
    "- R Language\n",
    "- Java\n",
    "- C++\n"
   ]
  },
  {
   "cell_type": "markdown",
   "id": "4cd1ad84-3a6b-423d-93f5-ab1c799cae1f",
   "metadata": {},
   "source": [
    "Some of the popular languages that Data Scientists use are:\n",
    "1. Python\n",
    "2. R-studio\n",
    "3. C++"
   ]
  },
  {
   "cell_type": "markdown",
   "id": "422e7577-353e-4f2d-9b74-dcc50adf6360",
   "metadata": {},
   "source": [
    "Some of the commonly used libraries used by Data Scientists include:\n",
    "- Python \n",
    "    * Pandas \n",
    "    * Flask \n",
    "\n",
    "- R-language \n",
    "    *Keras"
   ]
  },
  {
   "cell_type": "markdown",
   "id": "83ed953f-df70-4988-af69-73a7acfc64ce",
   "metadata": {},
   "source": [
    "| Data Science Tools |\n",
    "| ------------------ |\n",
    "| RStudio            |\n",
    "| ------------------ |\n",
    "| Apache Spark       | \n",
    "| ------------------ |\n",
    "| TensorFlow         | \n",
    "| ------------------ |"
   ]
  },
  {
   "cell_type": "markdown",
   "id": "079123a5-30ec-4651-8b6a-5e4e72975bfa",
   "metadata": {},
   "source": [
    "### Below are a few examples of evaluating arithmetic expressions in Python"
   ]
  },
  {
   "cell_type": "code",
   "execution_count": 3,
   "id": "cc1751b7-bbf7-4835-919f-34a8b91983a9",
   "metadata": {},
   "outputs": [
    {
     "name": "stdout",
     "output_type": "stream",
     "text": [
      "17\n"
     ]
    }
   ],
   "source": [
    "print((3*4)+5)"
   ]
  },
  {
   "cell_type": "code",
   "execution_count": 8,
   "id": "aa4a0f73-6500-4254-93cd-20062d688a4f",
   "metadata": {},
   "outputs": [
    {
     "name": "stdout",
     "output_type": "stream",
     "text": [
      "3.3333333333333335\n"
     ]
    }
   ],
   "source": [
    "minutes = 200 \n",
    "hours = minutes / 60\n",
    "print (hours)"
   ]
  },
  {
   "cell_type": "markdown",
   "id": "4af69765-afb8-4846-a391-7f6e55aacbb9",
   "metadata": {},
   "source": [
    "## Author: Tran Huy"
   ]
  }
 ],
 "metadata": {
  "kernelspec": {
   "display_name": "Python 3 (ipykernel)",
   "language": "python",
   "name": "python3"
  },
  "language_info": {
   "codemirror_mode": {
    "name": "ipython",
    "version": 3
   },
   "file_extension": ".py",
   "mimetype": "text/x-python",
   "name": "python",
   "nbconvert_exporter": "python",
   "pygments_lexer": "ipython3",
   "version": "3.11.3"
  }
 },
 "nbformat": 4,
 "nbformat_minor": 5
}
